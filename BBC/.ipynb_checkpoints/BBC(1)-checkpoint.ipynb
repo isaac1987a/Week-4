{
 "cells": [
  {
   "cell_type": "code",
   "execution_count": 10,
   "metadata": {
    "collapsed": false,
    "jupyter": {
     "outputs_hidden": false
    }
   },
   "outputs": [],
   "source": [
    "import numpy as np\n",
    "import pandas as pd\n",
    "from sklearn.feature_extraction.text import TfidfVectorizer\n",
    "from sklearn.manifold import TSNE\n",
    "from sklearn.model_selection import train_test_split\n",
    "from matplotlib import pyplot as plt\n",
    "import seaborn as sns\n",
    "from sklearn.decomposition import NMF\n",
    "from sklearn.metrics import confusion_matrix\n",
    "from sklearn.metrics import ConfusionMatrixDisplay\n",
    "from scipy.sparse import csr_matrix\n",
    "from sklearn.metrics import mean_squared_error as RMSE\n",
    "from sklearn.cluster import KMeans\n",
    "from sklearn.preprocessing import scale\n",
    "from sklearn.cluster import AgglomerativeClustering\n",
    "from sklearn.ensemble import RandomForestClassifier\n",
    "from sklearn.neighbors import KNeighborsClassifier\n",
    "\n",
    "from sklearn.metrics import f1_score\n",
    "from sklearn.metrics import precision_score\n",
    "from sklearn.metrics import recall_score"
   ]
  },
  {
   "cell_type": "markdown",
   "metadata": {},
   "source": [
    "# Part 1\n",
    "**Overall Goals**\n",
    "\n",
    "The Goal of this project is 2 fold.  The first is to perform import, and analysis, and predictions of the BBC News dataset using Non-Negative Matrix Factorization.  There will be testing with various sizes of training data and various levels of reduction as well as 3 or 4 different algorithims to perform predictions. \n",
    "\n",
    "As I have never done text analasys before I used [https://towardsdatascience.com/using\\-nmf\\-to\\-classify\\-companies\\-a77e176f276f](https://towardsdatascience.com/using-nmf-to-classify-companies-a77e176f276f)  as a guide on how to do this.\n",
    "\n"
   ]
  },
  {
   "cell_type": "markdown",
   "metadata": {},
   "source": [
    "<span style='font-size:medium'>**Import and EDA**</span>\n",
    "\n",
    "I am analyzing BBC news articles with the goal of being able to categorize the news articles.  I start by importing the data and factorizing the data.  I split the data using TF\\-IDF which uses the count of words penalized by how often the word happens in different documents.  It returns values for each word between 0 and 1 with 0 being not present.\n",
    "\n"
   ]
  },
  {
   "cell_type": "code",
   "execution_count": 11,
   "metadata": {
    "collapsed": false,
    "jupyter": {
     "outputs_hidden": false
    },
    "scrolled": true
   },
   "outputs": [
    {
     "name": "stdout",
     "output_type": "stream",
     "text": [
      "   ArticleId                                               Text  Category\n",
      "0       1833  worldcom ex-boss launches defence lawyers defe...  business\n",
      "1        154  german business confidence slides german busin...  business\n",
      "2       1101  bbc poll indicates economic gloom citizens in ...  business\n",
      "3       1976  lifestyle  governs mobile choice  faster  bett...      tech\n",
      "4        917  enron bosses in $168m payout eighteen former e...  business\n"
     ]
    }
   ],
   "source": [
    "data = pd.read_csv(\"https://raw.githubusercontent.com/isaac1987a/Week-4/main/BBC/Data/BBC_News_Train.csv?token=GHSAT0AAAAAACEVGSIJOLNMPFLVDU6S4NPCZFMJTXA\")\n",
    "print(data.head())\n",
    "vectorizer = TfidfVectorizer(input='content', encoding='utf-8', \n",
    "                             decode_error='strict', strip_accents='unicode', \n",
    "                             lowercase=True, preprocessor=None, tokenizer=None, \n",
    "                             analyzer='word', max_df=1.0, min_df=1, max_features=None, \n",
    "                             sublinear_tf=True, ngram_range=(1,2))\n",
    "#Combine Data into category matricies\n",
    "data = data.drop(columns = ['ArticleId'])\n",
    "\n",
    "#Vectorize Results\n",
    "text_matrix = vectorizer.fit_transform(data.Text)\n",
    "#Sparse Matrix of results\n",
    "#print(text_matrix)\n",
    "#Get Word List\n",
    "word_list = vectorizer.get_feature_names_out()\n"
   ]
  },
  {
   "cell_type": "code",
   "execution_count": 12,
   "metadata": {
    "collapsed": false,
    "jupyter": {
     "outputs_hidden": false
    }
   },
   "outputs": [
    {
     "name": "stdout",
     "output_type": "stream",
     "text": [
      "           00  00 and  00 for  00 mark  00 per       000  000 12  000 130  \\\n",
      "business  0.0     0.0     0.0      0.0     0.0  0.000000     0.0      0.0   \n",
      "business  0.0     0.0     0.0      0.0     0.0  0.000000     0.0      0.0   \n",
      "business  0.0     0.0     0.0      0.0     0.0  0.014521     0.0      0.0   \n",
      "tech      0.0     0.0     0.0      0.0     0.0  0.013526     0.0      0.0   \n",
      "business  0.0     0.0     0.0      0.0     0.0  0.000000     0.0      0.0   \n",
      "\n",
      "          000 133  000 267  ...  zurich according  zurich and  \\\n",
      "business      0.0      0.0  ...               0.0         0.0   \n",
      "business      0.0      0.0  ...               0.0         0.0   \n",
      "business      0.0      0.0  ...               0.0         0.0   \n",
      "tech          0.0      0.0  ...               0.0         0.0   \n",
      "business      0.0      0.0  ...               0.0         0.0   \n",
      "\n",
      "          zurich premiership  zutons  zutons at  zvonareva  zvonareva has  \\\n",
      "business                 0.0     0.0        0.0        0.0            0.0   \n",
      "business                 0.0     0.0        0.0        0.0            0.0   \n",
      "business                 0.0     0.0        0.0        0.0            0.0   \n",
      "tech                     0.0     0.0        0.0        0.0            0.0   \n",
      "business                 0.0     0.0        0.0        0.0            0.0   \n",
      "\n",
      "          zvonareva russia  zvonareva struggled  zvonareva while  \n",
      "business               0.0                  0.0              0.0  \n",
      "business               0.0                  0.0              0.0  \n",
      "business               0.0                  0.0              0.0  \n",
      "tech                   0.0                  0.0              0.0  \n",
      "business               0.0                  0.0              0.0  \n",
      "\n",
      "[5 rows x 268973 columns]\n",
      "(1490, 268973)\n"
     ]
    }
   ],
   "source": [
    "# Convert sparse matrix to array\n",
    "text_array = text_matrix.toarray()\n",
    "\n",
    "# Create pandas dataframe with column names as word_list\n",
    "text_dataframe = pd.DataFrame(text_array, columns=word_list)\n",
    "text_dataframe.index = list(data.Category)\n",
    "# Print first few rows of resulting dataframe\n",
    "print(text_dataframe.head())\n",
    "print(text_dataframe.shape)\n"
   ]
  },
  {
   "cell_type": "markdown",
   "metadata": {},
   "source": [
    "To start with, I validated that all categories are fairly well balanced.  This ensures that I don't have to do any normalizing for unblalanced data."
   ]
  },
  {
   "cell_type": "code",
   "execution_count": 13,
   "metadata": {
    "collapsed": false,
    "jupyter": {
     "outputs_hidden": false
    }
   },
   "outputs": [
    {
     "data": {
      "image/png": "[encoded data removed]",
      "text/plain": [
       "<Figure size 640x480 with 1 Axes>"
      ]
     },
     "metadata": {},
     "output_type": "display_data"
    }
   ],
   "source": [
    "\n",
    "#shows the data is balanced between categories\n",
    "def plot_balance(dat):\n",
    "    plot2 = plt.hist(dat.index)\n",
    "    plt.xlabel('Category')\n",
    "    plt.ylabel('Count')\n",
    "    plt.title('Count of items in categories Categories')\n",
    "    plt.show()\n",
    "plot_balance(text_dataframe)\n",
    "\n"
   ]
  },
  {
   "cell_type": "markdown",
   "metadata": {},
   "source": [
    "I now selected the most common words for each category by adding the values of each column.  This turned into an unexpected result.  Common words have distinct categories of association, but the top 10 words are very commonly shared too.  I'm going to reload the dataset while excluding common English words.\n",
    "\n",
    "I have no idea where the 6th color is coming from.  I gave up looking.  If you figure it out, please drop me a comment."
   ]
  },
  {
   "cell_type": "code",
   "execution_count": null,
   "metadata": {
    "tags": []
   },
   "outputs": [],
   "source": [
    "#The plot the sum of each categories words.\n",
    "def graph_frame(text_dataframe):\n",
    "    grouped_frame = text_dataframe.groupby(level = 0).sum()\n",
    "\n",
    "    top_n = 10\n",
    "    colors = ['blue', 'green', 'red', 'purple', 'orange']\n",
    "    fig, ax = plt.subplots(figsize=(12, 7))\n",
    "    for i, category in enumerate(grouped_frame.index):\n",
    "        top_words = grouped_frame.loc[category].sort_values(ascending=False).iloc[:top_n]\n",
    "        ax.bar(top_words.index, top_words.values, color=colors[i], alpha=0.7, label=category)\n",
    "\n",
    "    ax.set_xlabel('Words')\n",
    "    ax.set_ylabel('Count')\n",
    "    ax.set_title(f'Top {top_n} Words by Category')\n",
    "    plt.xticks(rotation=45, ha='right')\n",
    "    ax.legend()\n",
    "    plt.show()\n",
    "\n",
    "graph_frame(text_dataframe)"
   ]
  },
  {
   "cell_type": "markdown",
   "metadata": {},
   "source": [
    "After reviewing the data, there are few words and they have lots of overlap between categories.  I researched and found that TfidfVectorizer has the option to remove words.  I used the built in list of common words from the English language.  This seems to have resolved the overlap and now I have each category with distinct most common words.\n"
   ]
  },
  {
   "cell_type": "code",
   "execution_count": null,
   "metadata": {
    "collapsed": false,
    "jupyter": {
     "outputs_hidden": false
    }
   },
   "outputs": [],
   "source": [
    "stopwords = pd.read_csv(\"https://gist.githubusercontent.com/deekayen/4148741/raw/98d35708fa344717d8eee15d11987de6c8e26d7d/1-1000.txt\", header = None)[0:100]\n",
    "vectorizer = TfidfVectorizer(input='content', encoding='utf-8', \n",
    "                             decode_error='strict', strip_accents='unicode', \n",
    "                             lowercase=True, preprocessor=None, tokenizer=None, \n",
    "                             analyzer='word', max_df=1.0, min_df=1, max_features=None, \n",
    "                             sublinear_tf=True, ngram_range=(1,2), stop_words = stopwords.T.values.tolist()[0])\n",
    "#Vectorize Results\n",
    "text_matrix = vectorizer.fit_transform(data.Text)\n",
    "#Sparse Matrix of results\n",
    "#print(text_matrix)\n",
    "#Get Word List\n",
    "word_list = vectorizer.get_feature_names_out()\n",
    "# Convert sparse matrix to array\n",
    "text_array = text_matrix.toarray()\n",
    "\n",
    "# Create pandas dataframe with column names as word_list\n",
    "text_dataframe = pd.DataFrame(text_array, columns=word_list)\n",
    "text_dataframe.index = list(data.Category)\n",
    "# Print first few rows of resulting dataframe\n",
    "#print(text_dataframe.head())\n",
    "#print(text_dataframe.shape)\n",
    "graph_frame(text_dataframe)"
   ]
  },
  {
   "cell_type": "markdown",
   "metadata": {},
   "source": [
    "I considered cleaning up this more to get more pure data, however I decided that it would be more intresting to leave the data with some ambiguities in words to see what would happen."
   ]
  },
  {
   "cell_type": "markdown",
   "metadata": {},
   "source": [
    "Now I will use Non\\-Negative Matrix Factorization to reduce the size of the data set.  I will begin with a 90/10 train test split and move down to 50/50 20/80 and 10/90 to compare.  I will also see if I can find a most efficient C value for shrinking the dataset.   These initial steps are all being set up as funcitons so I can automate and make pretty graphs later on. \n",
    "\n",
    "To start with, I will split my data into train and test sets.  I split the data 90/10 and verified that the categories are similar in size.\n",
    "\n"
   ]
  },
  {
   "cell_type": "code",
   "execution_count": null,
   "metadata": {
    "collapsed": false,
    "jupyter": {
     "outputs_hidden": false
    }
   },
   "outputs": [],
   "source": [
    "#Function to split the data and drop a chart to verify that the \n",
    "def split_data(df, percent):\n",
    "    train_data, test_data = train_test_split(df, train_size=percent/100, random_state=42)    \n",
    "    return train_data, test_data\n",
    "\n",
    "train_data, test_data = split_data(text_dataframe, 90)\n",
    "plot_balance(train_data)"
   ]
  },
  {
   "cell_type": "markdown",
   "metadata": {},
   "source": [
    "As you can see, the datasets are similar in size preventing the need for normalizaiton."
   ]
  },
  {
   "cell_type": "markdown",
   "metadata": {},
   "source": [
    "Using T-SNE, the data is clearly categorized even when dimmension reduced to 2 factors.  There are some outliers, but it is pretty good.  The number of outliers may restrict me from usng a nearest neighbor model on the transformed data later on."
   ]
  },
  {
   "cell_type": "code",
   "execution_count": null,
   "metadata": {
    "tags": []
   },
   "outputs": [],
   "source": [
    "tsne = TSNE(n_components=2, random_state=42)\n",
    "graph_vals = tsne.fit_transform(text_dataframe)\n",
    "print(graph_vals.shape)\n",
    "plot3 = sns.scatterplot(x = graph_vals[:,0], y = graph_vals[:,1], hue = text_dataframe.index)"
   ]
  },
  {
   "cell_type": "markdown",
   "metadata": {},
   "source": [
    "**Data Transformation**\n",
    "I started with a C of 50 for data transformation.  This is a very large value to start with, but I had to start somewhere.  A C of 50 doesn't work well and exceeds the 200 iteration threshold to properly calclate.  "
   ]
  },
  {
   "cell_type": "code",
   "execution_count": null,
   "metadata": {
    "collapsed": false,
    "jupyter": {
     "outputs_hidden": false
    }
   },
   "outputs": [],
   "source": [
    "#Copied from https://towardsdatascience.com/using-nmf-to-classify-companies-a77e176f276f\n",
    "def create_model(train_data, c):\n",
    "    #print(train_data)\n",
    "    #train_data = csr_matrix(train_data)\n",
    "    model = NMF(n_components=c, init='random', random_state=0, solver = 'mu')\n",
    "    model = model.fit(train_data, c)\n",
    "    #H = model.components_\n",
    "    #err = model.reconstruction_err_\n",
    "    return (model)\n",
    "train_model = create_model(train_data, 50)"
   ]
  },
  {
   "cell_type": "code",
   "execution_count": null,
   "metadata": {
    "collapsed": false,
    "jupyter": {
     "outputs_hidden": false
    }
   },
   "outputs": [],
   "source": [
    "#print(train_model.transform(train_data).shape)\n",
    "#print(train_model.transform(train_data))"
   ]
  },
  {
   "cell_type": "markdown",
   "metadata": {},
   "source": [
    "## Initial Model Testing\n",
    "\n",
    "I want to compare models at this size so I will test a variety of modles to see which one does the best at 50 factors.  I plan to test K-Means, and Hierarchical clustering for unsupervised.  I wall aslo use Random Forrest, and KNN as a Supervised comparison.  I will be testing these all on 50, 40, 30, 20, 15, 10, 5, 3, and 2 factors.  The train/test splits will be 90/10, 50/50, 20,80, and 10,90.  This will generate a great many confusion matricies and take a long time to calculate all of this.  I will embed static images for you to not have to run everyting over a few hours.\n",
    "\n",
    "**K-Means**\n",
    "\n",
    "K-Means was used with Train N /5 clusters.  The multiplicative solver was used to speed up solve time.  After clusers were built, each cluster was assigned a category based on the most common category for each.  The test set was predicted and the categories were tested on the training categories.\n",
    "\n",
    "**Heirarcheral Agglomerative Clustering**\n",
    "\n",
    "Heirarcheral Agglomerative Clustering is a unsupervised teqnique that is common for text analasys.  This uses a bottom up teqnique to combine points until a prediciton tree is built.  Agglomerative clustering is designed to cluser data and does not have the ability to predict new points.  Theirfore I will be only calculating the success of clustering the training set and evaluating which points do not match the larger group.  I will be using the N/5 clusters.\n",
    "\n",
    "**Random Forrest**\n",
    "\n",
    "Random forrest is a similar teqnique to Heirarcheral Agglomerative Clustering,  however random forrest works from the top down to the leaves splitting on categories.  I will use random forrest with the min split being 5 points and 100 random trees.\n",
    "\n",
    "**K-Nearest Neighbor**\n",
    "\n",
    "KNN is a classification algorithim that uses the nearest neighbors to classify points.  This teqnique is part of how Agglomerative Clustering chooses it's cluster points, however KNN chooses the category based on the nearest neighbors while Agglomerative Clustering uses this to determine clusters as a unsupervised teqnique.  I will be using 1, 3, and 5, endpoints."
   ]
  },
  {
   "cell_type": "code",
   "execution_count": null,
   "metadata": {},
   "outputs": [],
   "source": [
    "def K_Means_Build_and_Test(train_W, test_W, train_data, test_data):\n",
    "    n_clusters = int(train_W.shape[0]/10)\n",
    "    model = KMeans(n_clusters=n_clusters, max_iter=300, n_init = 'auto')\n",
    "    fitted_data = model.fit(scale(train_W))\n",
    "    \n",
    "    #use train data labels with W to label each cluster\n",
    "    train_predict = model.predict(scale(train_W))\n",
    "    train_predict = pd.DataFrame(zip(train_data.index, train_predict), columns = ['label', 'group'])\n",
    "    #print(train_predict_labels.groupby(['group', 'label']).size())\n",
    "    val = train_predict.groupby(['group', 'label']).size().to_frame()\n",
    "    train_predict = val.loc[val.groupby(\"group\")[0].idxmax()][0]\n",
    "    #print(train_predict)\n",
    "    train_predict_labels = pd.DataFrame(list(train_predict.index), columns = ['group', 'label'])\n",
    "    #print(train_predict_labels)\n",
    "    \n",
    "    #Use transformed test data to predict \n",
    "    test_predict = model.predict(scale(test_W))\n",
    "    test_predict_labels = pd.DataFrame(zip(test_data.index, test_predict), columns = ['actual', 'group'])\n",
    "    \n",
    "    #Validate predictions on test lables\n",
    "    test_predict_labels['label'] = None\n",
    "    test_predict_labels = test_predict_labels.merge(train_predict_labels, on = 'group', how = 'left')\n",
    "    test_predict_labels = test_predict_labels.drop(['group', 'label_x'], axis = 1)\n",
    "    test_predict_labels = test_predict_labels.rename({'actual' : 'actual', 'label_y': 'predict'}, axis = 1)\n",
    "    #print(test_W.shape)\n",
    "    #print(test_predict_labels)\n",
    "    \n",
    "    #return values for RMSE and F1    \n",
    "    return test_predict_labels\n",
    "    \n",
    "#model_build_and_test(W, train_data, test_data, 50)\n",
    "\n",
    "#df = K_Means_Build_and_Test(train_model.transform(train_data), train_model.transform(test_data), train_data, test_data)\n",
    "\n",
    "def heiracheral_clustering(train_W, train_data):\n",
    "    n_clusters = int(train_W.shape[0]/10)\n",
    "    model = AgglomerativeClustering(n_clusters=n_clusters)\n",
    "    fitted_data = model.fit_predict(scale(train_W))\n",
    "    #use train data labels with W to label each cluster\n",
    "\n",
    "    train_predict = pd.DataFrame(zip(train_data.index, fitted_data), columns = ['label', 'group'])\n",
    "    #print(train_predict.shape)\n",
    "    val = train_predict.groupby(['group', 'label']).size().to_frame()\n",
    "    train_predict = val.loc[val.groupby(\"group\")[0].idxmax()][0]\n",
    "    train_predict_labels = pd.DataFrame(list(train_predict.index), columns = ['group', 'label'])\n",
    "\n",
    "    #Use transformed test data to build test set \n",
    "    test_predict_labels = pd.DataFrame(zip(train_data.index, fitted_data), columns = ['actual', 'group'])\n",
    "    \n",
    "    #Validate predictions on test lables\n",
    "    test_predict_labels['label'] = None\n",
    "    test_predict_labels = test_predict_labels.merge(train_predict_labels, on = 'group', how = 'left')\n",
    "    test_predict_labels = test_predict_labels.drop(['group', 'label_x'], axis = 1)\n",
    "    test_predict_labels = test_predict_labels.rename({'actual' : 'actual', 'label_y': 'predict'}, axis = 1)\n",
    "    #print(test_predict_labels)\n",
    "    #Test for perfect predictions\n",
    "    #print(sum(test_predict_labels['actual'] == test_predict_labels['predict']))\n",
    "    return test_predict_labels\n",
    "    \n",
    "#Heiracheral_clustering(train_model.transform(train_data), train_data)\n",
    "\n",
    "def random_forrest(train_W, test_W, train_data, test_data):\n",
    "    #Generate Random Forrest and Fit Data\n",
    "    model  = RandomForestClassifier(n_estimators=100, criterion='gini', \n",
    "                                    max_depth=None, min_samples_split=5, \n",
    "                                    min_samples_leaf=3, min_weight_fraction_leaf=0.0, \n",
    "                                    max_features='sqrt', max_leaf_nodes=None, \n",
    "                                    min_impurity_decrease=0.0, bootstrap=True, \n",
    "                                    oob_score=False, n_jobs=None, random_state=None, \n",
    "                                    verbose=0, warm_start=False, class_weight=None, \n",
    "                                    ccp_alpha=0.0, max_samples=None)\n",
    "    \n",
    "    model.fit(scale(train_W), train_data.index)\n",
    "    #predict test set\n",
    "    test_predict = model.predict(scale(test_W))\n",
    "    test_predict_labels = pd.DataFrame(zip(test_data.index, test_predict), columns = ['actual', 'predict'])\n",
    "    #print(test_predict_labels)\n",
    "    #print(sum(test_predict_labels['actual'] == test_predict_labels['predict']))\n",
    "    return(test_predict_labels)\n",
    "\n",
    "#random_forrest(train_model.transform(train_data), train_model.transform(test_data), train_data, test_data)\n",
    "\n",
    "def nearest_neighbor(train_W, test_W, train_data, test_data, n_neighbors):\n",
    "    model = KNeighborsClassifier(n_neighbors=n_neighbors, weights='uniform', \n",
    "                                 algorithm='auto', leaf_size=30, p=2, \n",
    "                                 metric='minkowski', metric_params=None, \n",
    "                                 n_jobs=None)\n",
    "    model.fit(scale(train_W), train_data.index)\n",
    "    test_predict = model.predict(scale(test_W))\n",
    "    test_predict_labels = pd.DataFrame(zip(test_data.index, test_predict), columns = ['actual', 'predict'])\n",
    "    #print(sum(test_predict_labels['actual'] == test_predict_labels['predict']))\n",
    "    #print(test_predict_labels)\n",
    "    return(test_predict_labels)\n",
    "df = nearest_neighbor(train_model.transform(train_data), train_model.transform(test_data), train_data, test_data, 1)  \n",
    "\n",
    "def make_metrics(df):\n",
    "    f1 = f1_score(df['actual'], df['predict'], average='macro')\n",
    "    f1 = \"F1 Score: \" + str(round(f1, 5))\n",
    "    precision = precision_score(df['actual'], df['predict'], average='macro')\n",
    "    precision = \"Precsion: \"+ str(round(precision, 5))\n",
    "    recall =  recall_score(df['actual'], df['predict'], average='macro')\n",
    "    recall = \"Recall: \"+ str(round(recall, 5))\n",
    "    return (f1, precision, recall)\n",
    "\n",
    "# Confusion Matrix From https://vitalflux.com/python-draw-confusion-matrix-matplotlib/#Confusion_Matrix_using_Matplotlib\n",
    "def make_confusion_matrix(df, title, axes, first_row = 0):\n",
    "    labels = np.array(['business', 'entertainment', 'politics', 'sports', 'tech'])\n",
    "    cm = confusion_matrix(df['actual'], df['predict'], labels = labels)\n",
    "    #print(cm)\n",
    "    cm_display = ConfusionMatrixDisplay(confusion_matrix = cm, display_labels = labels)\n",
    "    cm_display = cm_display.plot(ax=axes, xticks_rotation=30)\n",
    "    cm_display.ax_.set_title(title)\n",
    "    if first_row == 1:\n",
    "        cm_display.ax_.set_xlabel(\"\")\n",
    "        cm_display.ax_.set_ylabel(\"Actual\")\n",
    "    else: \n",
    "        cm_display.ax_.set_xlabel(\"\")\n",
    "        cm_display.ax_.set_ylabel(\"\")\n",
    "        cm_display.ax_.get_yaxis().set_visible(False)\n",
    "        \n",
    "    cm_display.im_.colorbar.remove()\n",
    "    cm_display.ax_.text(0.5, -0.3, \"\\n\".join(list(make_metrics(df))), transform=cm_display.ax_.transAxes,\n",
    "                                     horizontalalignment='center', verticalalignment='top')\n",
    "    return cm_display\n",
    "    \n",
    "    \n",
    "#make_confusion_matrix(df, \"Title\")\n",
    "\n",
    "#print(make_metrics(df))\n",
    "def make_metrics_clean(df):\n",
    "    f1 = f1_score(df['actual'], df['predict'], average='macro')\n",
    "    precision = precision_score(df['actual'], df['predict'], average='macro')\n",
    "    recall =  recall_score(df['actual'], df['predict'], average='macro')\n",
    "    return (f1, precision, recall)\n"
   ]
  },
  {
   "cell_type": "markdown",
   "metadata": {
    "tags": []
   },
   "source": [
    "# Caution.  This takes a very long time to run.  Static Image Results Below.  Uncomment this block if you want any kind of Performance."
   ]
  },
  {
   "cell_type": "code",
   "execution_count": null,
   "metadata": {
    "tags": []
   },
   "outputs": [],
   "source": [
    "\n",
    "def model_build_and_test(train_data, test_data, C, data_split):\n",
    "    #C will be a list of C values to test\n",
    "    # Build W and test W\n",
    "    \n",
    "    this_c = C\n",
    "    train_model= create_model(train_data, this_c)\n",
    "    train_W = train_model.transform(train_data)\n",
    "    test_W = train_model.transform(test_data)\n",
    "    #K-Means\n",
    "    \n",
    "    KMC = K_Means_Build_and_Test(train_model.transform(train_data), \n",
    "                                 train_model.transform(test_data), \n",
    "                                 train_data, test_data)\n",
    "    \n",
    "    #Hierarchical clustering\n",
    "    HC = heiracheral_clustering(train_model.transform(train_data), \n",
    "                                train_data)\n",
    "    \n",
    "    #Random Forrest\n",
    "    RMF = random_forrest(train_model.transform(train_data), \n",
    "                         train_model.transform(test_data), \n",
    "                         train_data, test_data)\n",
    "\n",
    "    \n",
    "    #KNN 1, 3, and 5 nearest neighbors\n",
    "    KNN1 = nearest_neighbor(train_model.transform(train_data), \n",
    "                            train_model.transform(test_data), \n",
    "                            train_data, test_data, 1)\n",
    "    KNN3 = nearest_neighbor(train_model.transform(train_data), \n",
    "                            train_model.transform(test_data), \n",
    "                            train_data, test_data, 3)\n",
    "    KNN5 = nearest_neighbor(train_model.transform(train_data), \n",
    "                            train_model.transform(test_data), \n",
    "                            train_data, test_data, 5)\n",
    "    \n",
    "    f1_data = pd.DataFrame([[make_metrics_clean(KMC)[0], make_metrics_clean(HC)[0], \n",
    "                            make_metrics_clean(RMF)[0], make_metrics_clean(KNN1)[0], \n",
    "                            make_metrics_clean(KNN3)[0], make_metrics_clean(KNN5)[0],\n",
    "                            C, data_split, \"F1\"]],   \n",
    "                           columns = ['KMC', 'HC', \"RMF\", 'KNN1', \"KNN3\",\n",
    "                                      \"KNN5\", \"C\", \"data_split\", \"type\"])\n",
    "    precision = pd.DataFrame([[make_metrics_clean(KMC)[1], make_metrics_clean(HC)[1], \n",
    "                            make_metrics_clean(RMF)[1], make_metrics_clean(KNN1)[1], \n",
    "                            make_metrics_clean(KNN3)[1], make_metrics_clean(KNN5)[1],\n",
    "                            C, data_split, \"precision\"]],   \n",
    "                           columns = ['KMC', 'HC', \"RMF\", 'KNN1', \"KNN3\",\n",
    "                                      \"KNN5\", \"C\", \"data_split\", \"type\"])\n",
    "    recall = pd.DataFrame([[make_metrics_clean(KMC)[2], make_metrics_clean(HC)[2], \n",
    "                            make_metrics_clean(RMF)[2], make_metrics_clean(KNN1)[2], \n",
    "                            make_metrics_clean(KNN3)[2], make_metrics_clean(KNN5)[2],\n",
    "                            C, data_split, \"recall\"]],   \n",
    "                           columns = ['KMC', 'HC', \"RMF\", 'KNN1', \"KNN3\",\n",
    "                                      \"KNN5\", \"C\", \"data_split\", \"type\"])\n",
    "    \n",
    "    f1_data = pd.concat([f1_data, precision, recall], axis = 0)\n",
    "    # Create the figure and axes\n",
    "\n",
    "\n",
    "    fig, axs = plt.subplots(1, 6, figsize=(18, 6))    \n",
    "    disp0 = make_confusion_matrix(KMC, \"K-Means\", axs[0], 1)\n",
    "    disp1 = make_confusion_matrix(HC, \"Heiracheral Clustering\", axs[1])\n",
    "    disp2 = make_confusion_matrix(RMF, \"Random Forrest\", axs[2])\n",
    "    disp3 = make_confusion_matrix(KNN1, \"K Nearest Neighbor N=1\", axs[3])\n",
    "    disp4 = make_confusion_matrix(KNN3, \"K Nearest Neighbor N=3\", axs[4])\n",
    "    disp5 = make_confusion_matrix(KNN5, \"K Nearest Neighbor N=5\", axs[5])\n",
    "\n",
    "    # Adjusting spacing between subplots\n",
    "    plt.subplots_adjust(wspace=0.3)\n",
    "    title = \"Confusion Matricies/Confusion \" + str(C) + \" Features \" + str(data_split) + \" Train Data\" \n",
    "    plt.savefig(title +\".png\")\n",
    "    title = \"Article Characterization: \" + str(C) + \" Features \" + str(data_split) + \"% Train Data\" \n",
    "    # Display the plot\n",
    "    fig.suptitle(title)\n",
    "    plt.show()\n",
    "    return f1_data\n",
    "\n",
    "f1_data = pd.DataFrame()\n",
    "c_values = [50, 25, 12, 8, 4, 2]\n",
    "data_split_values = [90, 50, 20, 10]\n",
    "#split_data(df, percent)\n",
    "#pd.concat([f1_data, model_build_and_test(train_data, test_data, 50, 90)], axis = 0)\n",
    "#print(f1_data)\n",
    "\n",
    "for percent in data_split_values:\n",
    "    train_data, test_data = split_data(text_dataframe, percent)\n",
    "    for c in c_values:\n",
    "        f1_new = model_build_and_test(train_data, test_data, c, percent)\n",
    "        f1_data = pd.concat([f1_data, f1_new], axis = 0)\n",
    "#save data for late use when this is blocked out.\n",
    "f1_data.to_csv('f1_data.csv')       "
   ]
  },
  {
   "cell_type": "markdown",
   "metadata": {},
   "source": []
  },
  {
   "cell_type": "markdown",
   "metadata": {
    "tags": []
   },
   "source": [
    "**Confusion Matrixs**\n",
    "\n",
    "https://github.com/isaac1987a/BBC-Mini-Project/tree/main\n"
   ]
  },
  {
   "cell_type": "code",
   "execution_count": null,
   "metadata": {},
   "outputs": [],
   "source": []
  },
  {
   "cell_type": "code",
   "execution_count": null,
   "metadata": {
    "tags": []
   },
   "outputs": [],
   "source": [
    "#Load data from skipped step\n",
    "f1_data = pd.read_csv('https://raw.githubusercontent.com/isaac1987a/Week-4/main/BBC/f1_data.csv?token=GHSAT0AAAAAACEVGSIIREHWH2ZYGII3JA4KZFMJTFA')\n",
    "#print(f1_data)\n",
    "#Format Data\n",
    "f1_data = f1_data.drop('Unnamed: 0', axis = 1)\n",
    "new_data = f1_data.melt(id_vars=['data_split', 'C', 'type'])\n",
    "new_data['C'] = new_data['C'].astype('category')\n",
    "new_data['data_split'] = new_data['data_split'].astype('category')\n",
    "    \n",
    "#C/F1 Score Train 20% data\n",
    "new_data = new_data.loc[(new_data['data_split'] == 20) & (new_data['type'] == 'F1')]\n",
    "#print(new_data)\n",
    "sns.lineplot(data=new_data, x='C', y='value', hue='variable', marker ='o')\n",
    "\n",
    "# Adding labels and title\n",
    "plt.xlabel('C')\n",
    "plt.ylabel('F1 Score')\n",
    "plt.title('F1 Score vs. C for Different Models 20% train data')\n",
    "\n",
    "# Displaying the plot\n",
    "plt.show()\n",
    "\n",
    "\n",
    "#train_data/F1 Score C=12\n",
    "new_data = f1_data.melt(id_vars=['data_split', 'C', 'type'])\n",
    "new_data['C'] = new_data['C'].astype('category')\n",
    "new_data['data_split'] = new_data['data_split'].astype('category')\n",
    "    \n",
    "#C/F1 Score Train 20% data\n",
    "new_data = new_data.loc[(new_data['C'] == 12) & (new_data['type'] == 'F1')]\n",
    "sns.lineplot(data=new_data, x='data_split', y='value', hue='variable', marker ='o')\n",
    "\n",
    "# Adding labels and title\n",
    "plt.xlabel('Percent Train')\n",
    "plt.ylabel('F1 Score')\n",
    "plt.title('F1 Score vs. C for Different Models')\n",
    "\n",
    "# Displaying the plot\n",
    "plt.show()"
   ]
  },
  {
   "cell_type": "markdown",
   "metadata": {},
   "source": [
    "**Analasys**\n",
    "The best place for getting good data seems to be around 12 factors.  This is likely becuase the algorithim has enough data to work with but minimizing the curse of dimmioniality.  "
   ]
  },
  {
   "cell_type": "code",
   "execution_count": null,
   "metadata": {},
   "outputs": [],
   "source": []
  }
 ],
 "metadata": {
  "kernelspec": {
   "display_name": "Python 3 (ipykernel)",
   "language": "python",
   "name": "python3"
  },
  "language_info": {
   "codemirror_mode": {
    "name": "ipython",
    "version": 3
   },
   "file_extension": ".py",
   "mimetype": "text/x-python",
   "name": "python",
   "nbconvert_exporter": "python",
   "pygments_lexer": "ipython3",
   "version": "3.11.3"
  }
 },
 "nbformat": 4,
 "nbformat_minor": 4
}
